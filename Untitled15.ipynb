{
  "nbformat": 4,
  "nbformat_minor": 0,
  "metadata": {
    "colab": {
      "provenance": []
    },
    "kernelspec": {
      "name": "python3",
      "display_name": "Python 3"
    },
    "language_info": {
      "name": "python"
    }
  },
  "cells": [
    {
      "cell_type": "code",
      "execution_count": 1,
      "metadata": {
        "colab": {
          "base_uri": "https://localhost:8080/"
        },
        "id": "HadxAOGj6BUZ",
        "outputId": "5475f05c-b7ec-482d-87c7-51bab597a712"
      },
      "outputs": [
        {
          "output_type": "stream",
          "name": "stdout",
          "text": [
            "26\n",
            "17\n",
            "False\n"
          ]
        }
      ],
      "source": [
        "from datetime import date\n",
        "class Pessoa:\n",
        "  def __init__(self, nome, idade):\n",
        "    self.nome = nome\n",
        "    self.idade = idade\n",
        " #Um metodo de classe para criar\n",
        " #Um objeto Pessoa através do ano de nasc\n",
        "  @classmethod\n",
        "  def apartirAnoNascimento(cls, nome, ano):\n",
        "   return cls(nome, date.today().year - ano)\n",
        " #Metodo Estático: verificar se é maior de idade\n",
        "  @staticmethod\n",
        "  def ehMaiorIdade(idade):\n",
        "   return idade >= 18\n",
        "pessoa1 = Pessoa('maria', 26)\n",
        "pessoa2 = Pessoa.apartirAnoNascimento('ana', 2006)\n",
        "print(pessoa1.idade)\n",
        "print(pessoa2.idade)\n",
        "#imprimir resultado\n",
        "print(Pessoa.ehMaiorIdade(17))"
      ]
    }
  ]
}